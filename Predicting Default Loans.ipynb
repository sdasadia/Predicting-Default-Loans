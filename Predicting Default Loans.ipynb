{
 "cells": [
  {
   "cell_type": "code",
   "execution_count": 1,
   "metadata": {
    "collapsed": true
   },
   "outputs": [],
   "source": [
    "import numpy as np\n",
    "import pandas as pd\n",
    "import string\n",
    "import matplotlib.pyplot as plt\n",
    "%matplotlib inline "
   ]
  },
  {
   "cell_type": "code",
   "execution_count": 2,
   "metadata": {
    "collapsed": false
   },
   "outputs": [
    {
     "name": "stderr",
     "output_type": "stream",
     "text": [
      "/Users/sarthakdasadia/anaconda/lib/python2.7/site-packages/IPython/core/interactiveshell.py:2717: DtypeWarning: Columns (19,47) have mixed types. Specify dtype option on import or set low_memory=False.\n",
      "  interactivity=interactivity, compiler=compiler, result=result)\n"
     ]
    }
   ],
   "source": [
    "input_file = \"lending-club-data.csv\"\n",
    "loans = pd.read_csv(input_file, header = 0)"
   ]
  },
  {
   "cell_type": "code",
   "execution_count": 3,
   "metadata": {
    "collapsed": false
   },
   "outputs": [
    {
     "data": {
      "text/html": [
       "<div>\n",
       "<table border=\"1\" class=\"dataframe\">\n",
       "  <thead>\n",
       "    <tr style=\"text-align: right;\">\n",
       "      <th></th>\n",
       "      <th>id</th>\n",
       "      <th>member_id</th>\n",
       "      <th>loan_amnt</th>\n",
       "      <th>funded_amnt</th>\n",
       "      <th>funded_amnt_inv</th>\n",
       "      <th>term</th>\n",
       "      <th>int_rate</th>\n",
       "      <th>installment</th>\n",
       "      <th>grade</th>\n",
       "      <th>sub_grade</th>\n",
       "      <th>...</th>\n",
       "      <th>sub_grade_num</th>\n",
       "      <th>delinq_2yrs_zero</th>\n",
       "      <th>pub_rec_zero</th>\n",
       "      <th>collections_12_mths_zero</th>\n",
       "      <th>short_emp</th>\n",
       "      <th>payment_inc_ratio</th>\n",
       "      <th>final_d</th>\n",
       "      <th>last_delinq_none</th>\n",
       "      <th>last_record_none</th>\n",
       "      <th>last_major_derog_none</th>\n",
       "    </tr>\n",
       "  </thead>\n",
       "  <tbody>\n",
       "    <tr>\n",
       "      <th>0</th>\n",
       "      <td>1077501</td>\n",
       "      <td>1296599</td>\n",
       "      <td>5000</td>\n",
       "      <td>5000</td>\n",
       "      <td>4975</td>\n",
       "      <td>36 months</td>\n",
       "      <td>10.65</td>\n",
       "      <td>162.87</td>\n",
       "      <td>B</td>\n",
       "      <td>B2</td>\n",
       "      <td>...</td>\n",
       "      <td>0.4</td>\n",
       "      <td>1.0</td>\n",
       "      <td>1.0</td>\n",
       "      <td>1.0</td>\n",
       "      <td>0</td>\n",
       "      <td>8.1435</td>\n",
       "      <td>20141201T000000</td>\n",
       "      <td>1</td>\n",
       "      <td>1</td>\n",
       "      <td>1</td>\n",
       "    </tr>\n",
       "    <tr>\n",
       "      <th>1</th>\n",
       "      <td>1077430</td>\n",
       "      <td>1314167</td>\n",
       "      <td>2500</td>\n",
       "      <td>2500</td>\n",
       "      <td>2500</td>\n",
       "      <td>60 months</td>\n",
       "      <td>15.27</td>\n",
       "      <td>59.83</td>\n",
       "      <td>C</td>\n",
       "      <td>C4</td>\n",
       "      <td>...</td>\n",
       "      <td>0.8</td>\n",
       "      <td>1.0</td>\n",
       "      <td>1.0</td>\n",
       "      <td>1.0</td>\n",
       "      <td>1</td>\n",
       "      <td>2.3932</td>\n",
       "      <td>20161201T000000</td>\n",
       "      <td>1</td>\n",
       "      <td>1</td>\n",
       "      <td>1</td>\n",
       "    </tr>\n",
       "  </tbody>\n",
       "</table>\n",
       "<p>2 rows × 68 columns</p>\n",
       "</div>"
      ],
      "text/plain": [
       "        id  member_id  loan_amnt  funded_amnt  funded_amnt_inv        term  \\\n",
       "0  1077501    1296599       5000         5000             4975   36 months   \n",
       "1  1077430    1314167       2500         2500             2500   60 months   \n",
       "\n",
       "   int_rate  installment grade sub_grade          ...          sub_grade_num  \\\n",
       "0     10.65       162.87     B        B2          ...                    0.4   \n",
       "1     15.27        59.83     C        C4          ...                    0.8   \n",
       "\n",
       "  delinq_2yrs_zero pub_rec_zero  collections_12_mths_zero short_emp  \\\n",
       "0              1.0          1.0                       1.0         0   \n",
       "1              1.0          1.0                       1.0         1   \n",
       "\n",
       "  payment_inc_ratio          final_d last_delinq_none last_record_none  \\\n",
       "0            8.1435  20141201T000000                1                1   \n",
       "1            2.3932  20161201T000000                1                1   \n",
       "\n",
       "  last_major_derog_none  \n",
       "0                     1  \n",
       "1                     1  \n",
       "\n",
       "[2 rows x 68 columns]"
      ]
     },
     "execution_count": 3,
     "metadata": {},
     "output_type": "execute_result"
    }
   ],
   "source": [
    "loans.head(2)"
   ]
  },
  {
   "cell_type": "markdown",
   "metadata": {},
   "source": [
    "Each loan is assigned a grade between `A` to `G`, along with a more finely discretized feature called `sub_grade` These values depend on the loan application and credit report, and determine the interest rate of the loan. More information can be found [here](https://www.lendingclub.com/public/rates-and-fees.action)."
   ]
  },
  {
   "cell_type": "code",
   "execution_count": 7,
   "metadata": {
    "collapsed": false
   },
   "outputs": [
    {
     "data": {
      "text/plain": [
       "array(['B', 'C', 'A', 'E', 'F', 'D', 'G'], dtype=object)"
      ]
     },
     "execution_count": 7,
     "metadata": {},
     "output_type": "execute_result"
    }
   ],
   "source": [
    "loans['grade'].unique()"
   ]
  },
  {
   "cell_type": "markdown",
   "metadata": {},
   "source": [
    "The target column (label column) of the dataset that I am interested in is called `bad_loans`. In this column **1** means a risky (bad) loan **0** means a safe  loan.\n",
    "\n",
    "In order to make this more intuitive and consistent with the lectures, I reassign the target to be:\n",
    "* **+1** as a safe  loan, \n",
    "* **-1** as a risky (bad) loan. \n",
    "\n",
    "I put this in a new column called `safe_loans`."
   ]
  },
  {
   "cell_type": "code",
   "execution_count": 8,
   "metadata": {
    "collapsed": false
   },
   "outputs": [
    {
     "data": {
      "text/plain": [
       "0    0\n",
       "1    1\n",
       "2    0\n",
       "3    0\n",
       "4    0\n",
       "Name: bad_loans, dtype: int64"
      ]
     },
     "execution_count": 8,
     "metadata": {},
     "output_type": "execute_result"
    }
   ],
   "source": [
    "loans['bad_loans'].head(5)"
   ]
  },
  {
   "cell_type": "code",
   "execution_count": 9,
   "metadata": {
    "collapsed": false
   },
   "outputs": [],
   "source": [
    "# bad_loans =  0 => safe\n",
    "# bad_loans =  1 => risky\n",
    "loans['safe_loans'] = loans['bad_loans'].apply(lambda x : +1 if x==0 else -1)"
   ]
  },
  {
   "cell_type": "code",
   "execution_count": 10,
   "metadata": {
    "collapsed": false
   },
   "outputs": [
    {
     "data": {
      "text/plain": [
       "<matplotlib.axes._subplots.AxesSubplot at 0x1150b04d0>"
      ]
     },
     "execution_count": 10,
     "metadata": {},
     "output_type": "execute_result"
    },
    {
     "data": {
      "image/png": "[encoded data removed]",
      "text/plain": [
       "<matplotlib.figure.Figure at 0x1068bca50>"
      ]
     },
     "metadata": {},
     "output_type": "display_data"
    }
   ],
   "source": [
    "loans.safe_loans.value_counts().plot(kind='bar')"
   ]
  },
  {
   "cell_type": "code",
   "execution_count": 8,
   "metadata": {
    "collapsed": false,
    "scrolled": true
   },
   "outputs": [
    {
     "name": "stdout",
     "output_type": "stream",
     "text": [
      "Number of safe loans  : 99457\n",
      "Number of risky loans : 23150\n"
     ]
    }
   ],
   "source": [
    "safe_loans_raw = loans[loans[ 'safe_loans'] == +1]\n",
    "risky_loans_raw = loans[loans[ 'safe_loans'] == -1]\n",
    "print \"Number of safe loans  : %s\" % len(safe_loans_raw)\n",
    "print \"Number of risky loans : %s\" % len(risky_loans_raw)"
   ]
  },
  {
   "cell_type": "code",
   "execution_count": 9,
   "metadata": {
    "collapsed": false
   },
   "outputs": [],
   "source": [
    "# Make equal number of safe and unsafe loans to train model\n",
    "\n",
    "percentage = len(risky_loans_raw)/float(len(safe_loans_raw))\n",
    "safe_loans = safe_loans_raw.sample(frac = percentage)\n",
    "\n",
    "# Append the risky_loans with the downsampled version of safe_loans\n",
    "loans_data = risky_loans_raw.append(safe_loans)"
   ]
  },
  {
   "cell_type": "code",
   "execution_count": 10,
   "metadata": {
    "collapsed": false,
    "scrolled": true
   },
   "outputs": [
    {
     "name": "stdout",
     "output_type": "stream",
     "text": [
      "Number of safe loans  : 23150\n",
      "Number of risky loans : 23150\n"
     ]
    }
   ],
   "source": [
    "safe = loans_data[loans_data[ 'safe_loans'] == +1]\n",
    "risky = loans_data[loans_data[ 'safe_loans'] == -1]\n",
    "print \"Number of safe loans  : %s\" % len(safe)\n",
    "print \"Number of risky loans : %s\" % len(risky)"
   ]
  },
  {
   "cell_type": "code",
   "execution_count": 11,
   "metadata": {
    "collapsed": false
   },
   "outputs": [],
   "source": [
    "# Features to used in this analysis \n",
    "\n",
    "features = ['grade',                     # grade of the loan\n",
    "            'sub_grade',                 # sub-grade of the loan\n",
    "            'short_emp',                 # one year or less of employment\n",
    "            'emp_length_num',            # number of years of employment\n",
    "            'home_ownership',            # home_ownership status: own, mortgage or rent\n",
    "            'dti',                       # debt to income ratio\n",
    "            'purpose',                   # the purpose of the loan\n",
    "            'term',                      # the term of the loan\n",
    "            'last_delinq_none',          # has borrower had a delinquincy\n",
    "            'last_major_derog_none',     # has borrower had 90 day or worse rating\n",
    "            'revol_util',                # percent of available credit being used\n",
    "            'total_rec_late_fee',        # total late fees received to day\n",
    "           ]\n",
    "\n",
    "target = 'safe_loans'                   # prediction target (y) (+1 means safe, -1 is risky)\n",
    "\n",
    "# Extract the feature columns and target column\n",
    "loans_data = loans_data[features + [target]]"
   ]
  },
  {
   "cell_type": "code",
   "execution_count": 12,
   "metadata": {
    "collapsed": false
   },
   "outputs": [
    {
     "data": {
      "text/html": [
       "<div>\n",
       "<table border=\"1\" class=\"dataframe\">\n",
       "  <thead>\n",
       "    <tr style=\"text-align: right;\">\n",
       "      <th></th>\n",
       "      <th>grade</th>\n",
       "      <th>sub_grade</th>\n",
       "      <th>short_emp</th>\n",
       "      <th>emp_length_num</th>\n",
       "      <th>home_ownership</th>\n",
       "      <th>dti</th>\n",
       "      <th>purpose</th>\n",
       "      <th>term</th>\n",
       "      <th>last_delinq_none</th>\n",
       "      <th>last_major_derog_none</th>\n",
       "      <th>revol_util</th>\n",
       "      <th>total_rec_late_fee</th>\n",
       "      <th>safe_loans</th>\n",
       "    </tr>\n",
       "  </thead>\n",
       "  <tbody>\n",
       "    <tr>\n",
       "      <th>1</th>\n",
       "      <td>C</td>\n",
       "      <td>C4</td>\n",
       "      <td>1</td>\n",
       "      <td>1</td>\n",
       "      <td>RENT</td>\n",
       "      <td>1.00</td>\n",
       "      <td>car</td>\n",
       "      <td>60 months</td>\n",
       "      <td>1</td>\n",
       "      <td>1</td>\n",
       "      <td>9.4</td>\n",
       "      <td>0.0</td>\n",
       "      <td>-1</td>\n",
       "    </tr>\n",
       "    <tr>\n",
       "      <th>6</th>\n",
       "      <td>F</td>\n",
       "      <td>F2</td>\n",
       "      <td>0</td>\n",
       "      <td>5</td>\n",
       "      <td>OWN</td>\n",
       "      <td>5.55</td>\n",
       "      <td>small_business</td>\n",
       "      <td>60 months</td>\n",
       "      <td>1</td>\n",
       "      <td>1</td>\n",
       "      <td>32.6</td>\n",
       "      <td>0.0</td>\n",
       "      <td>-1</td>\n",
       "    </tr>\n",
       "    <tr>\n",
       "      <th>7</th>\n",
       "      <td>B</td>\n",
       "      <td>B5</td>\n",
       "      <td>1</td>\n",
       "      <td>1</td>\n",
       "      <td>RENT</td>\n",
       "      <td>18.08</td>\n",
       "      <td>other</td>\n",
       "      <td>60 months</td>\n",
       "      <td>1</td>\n",
       "      <td>1</td>\n",
       "      <td>36.5</td>\n",
       "      <td>0.0</td>\n",
       "      <td>-1</td>\n",
       "    </tr>\n",
       "    <tr>\n",
       "      <th>10</th>\n",
       "      <td>C</td>\n",
       "      <td>C1</td>\n",
       "      <td>1</td>\n",
       "      <td>1</td>\n",
       "      <td>RENT</td>\n",
       "      <td>10.08</td>\n",
       "      <td>debt_consolidation</td>\n",
       "      <td>36 months</td>\n",
       "      <td>1</td>\n",
       "      <td>1</td>\n",
       "      <td>91.7</td>\n",
       "      <td>0.0</td>\n",
       "      <td>-1</td>\n",
       "    </tr>\n",
       "    <tr>\n",
       "      <th>12</th>\n",
       "      <td>B</td>\n",
       "      <td>B2</td>\n",
       "      <td>0</td>\n",
       "      <td>4</td>\n",
       "      <td>RENT</td>\n",
       "      <td>7.06</td>\n",
       "      <td>other</td>\n",
       "      <td>36 months</td>\n",
       "      <td>1</td>\n",
       "      <td>1</td>\n",
       "      <td>55.5</td>\n",
       "      <td>0.0</td>\n",
       "      <td>-1</td>\n",
       "    </tr>\n",
       "  </tbody>\n",
       "</table>\n",
       "</div>"
      ],
      "text/plain": [
       "   grade sub_grade  short_emp  emp_length_num home_ownership    dti  \\\n",
       "1      C        C4          1               1           RENT   1.00   \n",
       "6      F        F2          0               5            OWN   5.55   \n",
       "7      B        B5          1               1           RENT  18.08   \n",
       "10     C        C1          1               1           RENT  10.08   \n",
       "12     B        B2          0               4           RENT   7.06   \n",
       "\n",
       "               purpose        term  last_delinq_none  last_major_derog_none  \\\n",
       "1                  car   60 months                 1                      1   \n",
       "6       small_business   60 months                 1                      1   \n",
       "7                other   60 months                 1                      1   \n",
       "10  debt_consolidation   36 months                 1                      1   \n",
       "12               other   36 months                 1                      1   \n",
       "\n",
       "    revol_util  total_rec_late_fee  safe_loans  \n",
       "1          9.4                 0.0          -1  \n",
       "6         32.6                 0.0          -1  \n",
       "7         36.5                 0.0          -1  \n",
       "10        91.7                 0.0          -1  \n",
       "12        55.5                 0.0          -1  "
      ]
     },
     "execution_count": 12,
     "metadata": {},
     "output_type": "execute_result"
    }
   ],
   "source": [
    "loans_data.head(5)"
   ]
  },
  {
   "cell_type": "markdown",
   "metadata": {},
   "source": [
    "# 1. Decision Tree - Scikit-learn"
   ]
  },
  {
   "cell_type": "code",
   "execution_count": 13,
   "metadata": {
    "collapsed": false
   },
   "outputs": [],
   "source": [
    "# Training & Validation data\n",
    "\n",
    "from sklearn.cross_validation import train_test_split\n",
    "train_data, validation_data = train_test_split(loans_data, test_size = 0.2)"
   ]
  },
  {
   "cell_type": "code",
   "execution_count": 14,
   "metadata": {
    "collapsed": false
   },
   "outputs": [
    {
     "data": {
      "text/plain": [
       "(37040, 13)"
      ]
     },
     "execution_count": 14,
     "metadata": {},
     "output_type": "execute_result"
    }
   ],
   "source": [
    "train_data.shape"
   ]
  },
  {
   "cell_type": "code",
   "execution_count": 15,
   "metadata": {
    "collapsed": false
   },
   "outputs": [
    {
     "data": {
      "text/plain": [
       "(9260, 13)"
      ]
     },
     "execution_count": 15,
     "metadata": {},
     "output_type": "execute_result"
    }
   ],
   "source": [
    "validation_data.shape"
   ]
  },
  {
   "cell_type": "code",
   "execution_count": 16,
   "metadata": {
    "collapsed": false
   },
   "outputs": [],
   "source": [
    "# Convert data into numpy\n",
    "\n",
    "def get_numpy_data(data_frame, features, label):\n",
    "    features_array = np.array(data_frame[features])\n",
    "    label_array = np.array(data_frame[label])\n",
    "    return(features_array, label_array)\n",
    "\n",
    "\n",
    "train_feature_matrix, train_target_matrix = get_numpy_data(train_data, features, target) \n",
    "validation_feature_matrix, validation_target_matrix = get_numpy_data(validation_data, features, target) "
   ]
  },
  {
   "cell_type": "code",
   "execution_count": 17,
   "metadata": {
    "collapsed": false
   },
   "outputs": [
    {
     "name": "stdout",
     "output_type": "stream",
     "text": [
      "[['E' 'E1' 1 1 'RENT' 1.09 'debt_consolidation' ' 36 months' 1 1 78.0 0.0]\n",
      " ['D' 'D1' 0 11 'MORTGAGE' 10.0 'other' ' 60 months' 1 1 46.4 0.0]\n",
      " ['C' 'C2' 0 11 'RENT' 33.6 'debt_consolidation' ' 36 months' 0 0 45.9 0.0]\n",
      " ['C' 'C4' 0 6 'OWN' 21.29 'debt_consolidation' ' 36 months' 1 1 89.0 0.0]]\n",
      "[['C' 'C4' 0 11 'MORTGAGE' 20.33 'debt_consolidation' ' 36 months' 0 1 89.1\n",
      "  14.9995]\n",
      " ['F' 'F2' 1 0 'MORTGAGE' 24.07 'debt_consolidation' ' 60 months' 1 1 93.9\n",
      "  0.0]\n",
      " ['D' 'D4' 0 10 'RENT' 28.62 'other' ' 36 months' 0 0 67.8 0.0]\n",
      " ['A' 'A4' 0 5 'RENT' 13.1 'vacation' ' 36 months' 1 1 17.2 0.0]]\n"
     ]
    }
   ],
   "source": [
    "print(train_feature_matrix[1:5,])\n",
    "print(validation_feature_matrix[1:5])"
   ]
  },
  {
   "cell_type": "code",
   "execution_count": 18,
   "metadata": {
    "collapsed": true
   },
   "outputs": [],
   "source": [
    "# Convert into incremental value\n",
    "#http://stackoverflow.com/questions/30384995/randomforestclassfier-fit-valueerror-could-not-convert-string-to-float\n",
    "\n",
    "from sklearn import preprocessing\n",
    "#le = preprocessing.LabelEncoder()\n",
    "\n",
    "l0e = preprocessing.LabelEncoder()\n",
    "l0 = l0e.fit(train_feature_matrix[:,0])\n",
    "train_feature_matrix[:,0]= l0.transform(train_feature_matrix[:,0])\n",
    "validation_feature_matrix[:,0]= l0.transform(validation_feature_matrix[:,0])\n",
    "\n",
    "l1e = preprocessing.LabelEncoder()\n",
    "l1 = l1e.fit(train_feature_matrix[:,1])\n",
    "train_feature_matrix[:,1]= l1.transform(train_feature_matrix[:,1])\n",
    "validation_feature_matrix[:,1]= l1.transform(validation_feature_matrix[:,1])\n",
    "\n",
    "l4e = preprocessing.LabelEncoder()\n",
    "l4 = l4e.fit(train_feature_matrix[:,4])\n",
    "train_feature_matrix[:,4]= l4.transform(train_feature_matrix[:,4])\n",
    "validation_feature_matrix[:,4]= l4.transform(validation_feature_matrix[:,4])\n",
    "\n",
    "l6e = preprocessing.LabelEncoder()\n",
    "l6 = l6e.fit(train_feature_matrix[:,6])\n",
    "train_feature_matrix[:,6]= l6.transform(train_feature_matrix[:,6])\n",
    "validation_feature_matrix[:,6]= l6.transform(validation_feature_matrix[:,6])\n",
    "\n",
    "l7e = preprocessing.LabelEncoder()\n",
    "l7 = l7e.fit(train_feature_matrix[:,7])\n",
    "train_feature_matrix[:,7]= l7.transform(train_feature_matrix[:,7])\n",
    "validation_feature_matrix[:,7]= l7.transform(validation_feature_matrix[:,7])\n"
   ]
  },
  {
   "cell_type": "code",
   "execution_count": 19,
   "metadata": {
    "collapsed": false
   },
   "outputs": [
    {
     "name": "stdout",
     "output_type": "stream",
     "text": [
      "[[4 20 1 1 3 1.09 2 0 1 1 78.0 0.0]\n",
      " [3 15 0 11 0 10.0 8 1 1 1 46.4 0.0]\n",
      " [2 11 0 11 3 33.6 2 0 0 0 45.9 0.0]\n",
      " [2 13 0 6 2 21.29 2 0 1 1 89.0 0.0]]\n",
      "[[2 13 0 11 0 20.33 2 0 0 1 89.1 14.9995]\n",
      " [5 26 1 0 0 24.07 2 1 1 1 93.9 0.0]\n",
      " [3 18 0 10 3 28.62 8 0 0 0 67.8 0.0]\n",
      " [0 3 0 5 3 13.1 10 0 1 1 17.2 0.0]]\n"
     ]
    }
   ],
   "source": [
    "print(train_feature_matrix[1:5,])\n",
    "print(validation_feature_matrix[1:5,])"
   ]
  },
  {
   "cell_type": "code",
   "execution_count": 20,
   "metadata": {
    "collapsed": false
   },
   "outputs": [
    {
     "data": {
      "text/plain": [
       "array([ 1,  1,  1,  1, -1,  1, -1, -1, -1])"
      ]
     },
     "execution_count": 20,
     "metadata": {},
     "output_type": "execute_result"
    }
   ],
   "source": [
    "train_target_matrix[1:10]"
   ]
  },
  {
   "cell_type": "code",
   "execution_count": 21,
   "metadata": {
    "collapsed": false
   },
   "outputs": [],
   "source": [
    "from sklearn import tree\n",
    "from sklearn.tree import DecisionTreeClassifier\n",
    "\n",
    "dt = tree.DecisionTreeClassifier(max_depth=6)\n",
    "clf = dt.fit(train_feature_matrix, train_target_matrix)"
   ]
  },
  {
   "cell_type": "code",
   "execution_count": 22,
   "metadata": {
    "collapsed": false
   },
   "outputs": [
    {
     "name": "stdout",
     "output_type": "stream",
     "text": [
      "Accuracy on training data = 0.64\n"
     ]
    }
   ],
   "source": [
    "predicted = clf.predict(train_feature_matrix)\n",
    "\n",
    "num_mistakes = (predicted != train_target_matrix).sum() \n",
    "num_correct = len(train_target_matrix) - num_mistakes\n",
    "accuracy = num_correct/float(len(train_target_matrix)) \n",
    "print 'Accuracy on training data = %.2f' % accuracy"
   ]
  },
  {
   "cell_type": "code",
   "execution_count": 23,
   "metadata": {
    "collapsed": false
   },
   "outputs": [],
   "source": [
    "tree.export_graphviz(clf, out_file='tree.dot') "
   ]
  },
  {
   "cell_type": "code",
   "execution_count": 24,
   "metadata": {
    "collapsed": false
   },
   "outputs": [
    {
     "data": {
      "image/svg+xml": [
       "<?xml version=\"1.0\" encoding=\"UTF-8\" standalone=\"no\"?>\n",
       "<!DOCTYPE svg PUBLIC \"-//W3C//DTD SVG 1.1//EN\"\n",
       " \"http://www.w3.org/Graphics/SVG/1.1/DTD/svg11.dtd\">\n",
       "<!-- Generated by graphviz version 2.40.1 (20161225.0304)\n",
       " -->\n",
       "<!-- Title: Tree Pages: 1 -->\n",
       "<svg width=\"587pt\" height=\"258pt\"\n",
       " viewBox=\"0.00 0.00 586.54 258.00\" xmlns=\"http://www.w3.org/2000/svg\" xmlns:xlink=\"http://www.w3.org/1999/xlink\">\n",
       "<g id=\"graph0\" class=\"graph\" transform=\"scale(1 1) rotate(0) translate(4 254)\">\n",
       "<title>Tree</title>\n",
       "<polygon fill=\"#ffffff\" stroke=\"transparent\" points=\"-4,4 -4,-254 582.5371,-254 582.5371,4 -4,4\"/>\n",
       "<!-- 0 -->\n",
       "<g id=\"node1\" class=\"node\">\n",
       "<title>0</title>\n",
       "<polygon fill=\"none\" stroke=\"#000000\" points=\"358.3064,-250 211.2307,-250 211.2307,-186 358.3064,-186 358.3064,-250\"/>\n",
       "<text text-anchor=\"middle\" x=\"284.7686\" y=\"-234.8\" font-family=\"Times,serif\" font-size=\"14.00\" fill=\"#000000\">X[0] &lt;= 1.5</text>\n",
       "<text text-anchor=\"middle\" x=\"284.7686\" y=\"-220.8\" font-family=\"Times,serif\" font-size=\"14.00\" fill=\"#000000\">gini = 0.5</text>\n",
       "<text text-anchor=\"middle\" x=\"284.7686\" y=\"-206.8\" font-family=\"Times,serif\" font-size=\"14.00\" fill=\"#000000\">samples = 37040</text>\n",
       "<text text-anchor=\"middle\" x=\"284.7686\" y=\"-192.8\" font-family=\"Times,serif\" font-size=\"14.00\" fill=\"#000000\">value = [18530, 18510]</text>\n",
       "</g>\n",
       "<!-- 1 -->\n",
       "<g id=\"node2\" class=\"node\">\n",
       "<title>1</title>\n",
       "<polygon fill=\"none\" stroke=\"#000000\" points=\"274.3065,-150 141.2306,-150 141.2306,-86 274.3065,-86 274.3065,-150\"/>\n",
       "<text text-anchor=\"middle\" x=\"207.7686\" y=\"-134.8\" font-family=\"Times,serif\" font-size=\"14.00\" fill=\"#000000\">X[11] &lt;= 1.895</text>\n",
       "<text text-anchor=\"middle\" x=\"207.7686\" y=\"-120.8\" font-family=\"Times,serif\" font-size=\"14.00\" fill=\"#000000\">gini = 0.4628</text>\n",
       "<text text-anchor=\"middle\" x=\"207.7686\" y=\"-106.8\" font-family=\"Times,serif\" font-size=\"14.00\" fill=\"#000000\">samples = 15307</text>\n",
       "<text text-anchor=\"middle\" x=\"207.7686\" y=\"-92.8\" font-family=\"Times,serif\" font-size=\"14.00\" fill=\"#000000\">value = [5566, 9741]</text>\n",
       "</g>\n",
       "<!-- 0&#45;&gt;1 -->\n",
       "<g id=\"edge1\" class=\"edge\">\n",
       "<title>0&#45;&gt;1</title>\n",
       "<path fill=\"none\" stroke=\"#000000\" d=\"M259.9814,-185.8089C253.1808,-176.9769 245.7234,-167.2921 238.627,-158.0759\"/>\n",
       "<polygon fill=\"#000000\" stroke=\"#000000\" points=\"241.3834,-155.9187 232.5092,-150.1308 235.8371,-160.1894 241.3834,-155.9187\"/>\n",
       "<text text-anchor=\"middle\" x=\"229.2877\" y=\"-170.7223\" font-family=\"Times,serif\" font-size=\"14.00\" fill=\"#000000\">True</text>\n",
       "</g>\n",
       "<!-- 4 -->\n",
       "<g id=\"node5\" class=\"node\">\n",
       "<title>4</title>\n",
       "<polygon fill=\"none\" stroke=\"#000000\" points=\"432.8064,-150 292.7307,-150 292.7307,-86 432.8064,-86 432.8064,-150\"/>\n",
       "<text text-anchor=\"middle\" x=\"362.7686\" y=\"-134.8\" font-family=\"Times,serif\" font-size=\"14.00\" fill=\"#000000\">X[1] &lt;= 15.5</text>\n",
       "<text text-anchor=\"middle\" x=\"362.7686\" y=\"-120.8\" font-family=\"Times,serif\" font-size=\"14.00\" fill=\"#000000\">gini = 0.4814</text>\n",
       "<text text-anchor=\"middle\" x=\"362.7686\" y=\"-106.8\" font-family=\"Times,serif\" font-size=\"14.00\" fill=\"#000000\">samples = 21733</text>\n",
       "<text text-anchor=\"middle\" x=\"362.7686\" y=\"-92.8\" font-family=\"Times,serif\" font-size=\"14.00\" fill=\"#000000\">value = [12964, 8769]</text>\n",
       "</g>\n",
       "<!-- 0&#45;&gt;4 -->\n",
       "<g id=\"edge4\" class=\"edge\">\n",
       "<title>0&#45;&gt;4</title>\n",
       "<path fill=\"none\" stroke=\"#000000\" d=\"M309.8776,-185.8089C316.7666,-176.9769 324.3208,-167.2921 331.5093,-158.0759\"/>\n",
       "<polygon fill=\"#000000\" stroke=\"#000000\" points=\"334.316,-160.1684 337.7066,-150.1308 328.7964,-155.8632 334.316,-160.1684\"/>\n",
       "<text text-anchor=\"middle\" x=\"340.7731\" y=\"-170.742\" font-family=\"Times,serif\" font-size=\"14.00\" fill=\"#000000\">False</text>\n",
       "</g>\n",
       "<!-- 2 -->\n",
       "<g id=\"node3\" class=\"node\">\n",
       "<title>2</title>\n",
       "<polygon fill=\"none\" stroke=\"#000000\" points=\"133.3065,-50 .2306,-50 .2306,0 133.3065,0 133.3065,-50\"/>\n",
       "<text text-anchor=\"middle\" x=\"66.7686\" y=\"-34.8\" font-family=\"Times,serif\" font-size=\"14.00\" fill=\"#000000\">gini = 0.4534</text>\n",
       "<text text-anchor=\"middle\" x=\"66.7686\" y=\"-20.8\" font-family=\"Times,serif\" font-size=\"14.00\" fill=\"#000000\">samples = 14754</text>\n",
       "<text text-anchor=\"middle\" x=\"66.7686\" y=\"-6.8\" font-family=\"Times,serif\" font-size=\"14.00\" fill=\"#000000\">value = [5126, 9628]</text>\n",
       "</g>\n",
       "<!-- 1&#45;&gt;2 -->\n",
       "<g id=\"edge2\" class=\"edge\">\n",
       "<title>1&#45;&gt;2</title>\n",
       "<path fill=\"none\" stroke=\"#000000\" d=\"M159.2444,-85.9947C144.3279,-76.1562 127.9531,-65.3558 113.1818,-55.613\"/>\n",
       "<polygon fill=\"#000000\" stroke=\"#000000\" points=\"114.9679,-52.5983 104.6931,-50.014 111.1137,-58.4417 114.9679,-52.5983\"/>\n",
       "</g>\n",
       "<!-- 3 -->\n",
       "<g id=\"node4\" class=\"node\">\n",
       "<title>3</title>\n",
       "<polygon fill=\"none\" stroke=\"#000000\" points=\"270.293,-50 151.2441,-50 151.2441,0 270.293,0 270.293,-50\"/>\n",
       "<text text-anchor=\"middle\" x=\"210.7686\" y=\"-34.8\" font-family=\"Times,serif\" font-size=\"14.00\" fill=\"#000000\">gini = 0.3252</text>\n",
       "<text text-anchor=\"middle\" x=\"210.7686\" y=\"-20.8\" font-family=\"Times,serif\" font-size=\"14.00\" fill=\"#000000\">samples = 553</text>\n",
       "<text text-anchor=\"middle\" x=\"210.7686\" y=\"-6.8\" font-family=\"Times,serif\" font-size=\"14.00\" fill=\"#000000\">value = [440, 113]</text>\n",
       "</g>\n",
       "<!-- 1&#45;&gt;3 -->\n",
       "<g id=\"edge3\" class=\"edge\">\n",
       "<title>1&#45;&gt;3</title>\n",
       "<path fill=\"none\" stroke=\"#000000\" d=\"M208.801,-85.9947C209.0709,-77.6273 209.3633,-68.5643 209.638,-60.0478\"/>\n",
       "<polygon fill=\"#000000\" stroke=\"#000000\" points=\"213.1373,-60.1217 209.9617,-50.014 206.141,-59.896 213.1373,-60.1217\"/>\n",
       "</g>\n",
       "<!-- 5 -->\n",
       "<g id=\"node6\" class=\"node\">\n",
       "<title>5</title>\n",
       "<polygon fill=\"none\" stroke=\"#000000\" points=\"426.3065,-50 293.2306,-50 293.2306,0 426.3065,0 426.3065,-50\"/>\n",
       "<text text-anchor=\"middle\" x=\"359.7686\" y=\"-34.8\" font-family=\"Times,serif\" font-size=\"14.00\" fill=\"#000000\">gini = 0.498</text>\n",
       "<text text-anchor=\"middle\" x=\"359.7686\" y=\"-20.8\" font-family=\"Times,serif\" font-size=\"14.00\" fill=\"#000000\">samples = 10964</text>\n",
       "<text text-anchor=\"middle\" x=\"359.7686\" y=\"-6.8\" font-family=\"Times,serif\" font-size=\"14.00\" fill=\"#000000\">value = [5831, 5133]</text>\n",
       "</g>\n",
       "<!-- 4&#45;&gt;5 -->\n",
       "<g id=\"edge5\" class=\"edge\">\n",
       "<title>4&#45;&gt;5</title>\n",
       "<path fill=\"none\" stroke=\"#000000\" d=\"M361.7361,-85.9947C361.4662,-77.6273 361.1739,-68.5643 360.8991,-60.0478\"/>\n",
       "<polygon fill=\"#000000\" stroke=\"#000000\" points=\"364.3961,-59.896 360.5755,-50.014 357.3998,-60.1217 364.3961,-59.896\"/>\n",
       "</g>\n",
       "<!-- 6 -->\n",
       "<g id=\"node7\" class=\"node\">\n",
       "<title>6</title>\n",
       "<polygon fill=\"none\" stroke=\"#000000\" points=\"578.3065,-50 445.2306,-50 445.2306,0 578.3065,0 578.3065,-50\"/>\n",
       "<text text-anchor=\"middle\" x=\"511.7686\" y=\"-34.8\" font-family=\"Times,serif\" font-size=\"14.00\" fill=\"#000000\">gini = 0.4473</text>\n",
       "<text text-anchor=\"middle\" x=\"511.7686\" y=\"-20.8\" font-family=\"Times,serif\" font-size=\"14.00\" fill=\"#000000\">samples = 10769</text>\n",
       "<text text-anchor=\"middle\" x=\"511.7686\" y=\"-6.8\" font-family=\"Times,serif\" font-size=\"14.00\" fill=\"#000000\">value = [7133, 3636]</text>\n",
       "</g>\n",
       "<!-- 4&#45;&gt;6 -->\n",
       "<g id=\"edge6\" class=\"edge\">\n",
       "<title>4&#45;&gt;6</title>\n",
       "<path fill=\"none\" stroke=\"#000000\" d=\"M414.0459,-85.9947C429.956,-76.0642 447.4361,-65.1538 463.1592,-55.3401\"/>\n",
       "<polygon fill=\"#000000\" stroke=\"#000000\" points=\"465.0623,-58.2781 471.6923,-50.014 461.3559,-52.3398 465.0623,-58.2781\"/>\n",
       "</g>\n",
       "</g>\n",
       "</svg>\n"
      ],
      "text/plain": [
       "<graphviz.files.Source at 0x12d63b3d0>"
      ]
     },
     "execution_count": 24,
     "metadata": {},
     "output_type": "execute_result"
    }
   ],
   "source": [
    "# Smaller Decision Tree\n",
    "\n",
    "dt = tree.DecisionTreeClassifier(max_depth=2)\n",
    "clf2 = dt.fit(train_feature_matrix, train_target_matrix)\n",
    "\n",
    "from sklearn.tree import export_graphviz\n",
    "import graphviz\n",
    "\n",
    "export_graphviz(clf2, out_file=\"mytree.dot\")\n",
    "with open(\"mytree.dot\") as f:\n",
    "    dot_graph = f.read()\n",
    "graphviz.Source(dot_graph)"
   ]
  },
  {
   "cell_type": "code",
   "execution_count": 25,
   "metadata": {
    "collapsed": false
   },
   "outputs": [
    {
     "name": "stdout",
     "output_type": "stream",
     "text": [
      "Accuracy on validation data = 0.63\n"
     ]
    }
   ],
   "source": [
    "predicted = clf.predict(validation_feature_matrix)\n",
    "\n",
    "num_mistakes = (predicted != validation_target_matrix).sum() \n",
    "num_correct = len(validation_target_matrix) - num_mistakes\n",
    "accuracy = num_correct/float(len(validation_target_matrix)) \n",
    "print 'Accuracy on validation data = %.2f' % accuracy"
   ]
  },
  {
   "cell_type": "code",
   "execution_count": 26,
   "metadata": {
    "collapsed": true
   },
   "outputs": [],
   "source": [
    "dt = tree.DecisionTreeClassifier(max_depth=10)\n",
    "clf3 = dt.fit(train_feature_matrix, train_target_matrix)"
   ]
  },
  {
   "cell_type": "code",
   "execution_count": 27,
   "metadata": {
    "collapsed": false
   },
   "outputs": [
    {
     "name": "stdout",
     "output_type": "stream",
     "text": [
      "Accuracy on validation data = 0.63\n"
     ]
    }
   ],
   "source": [
    "predicted = clf3.predict(validation_feature_matrix)\n",
    "\n",
    "num_mistakes = (predicted != validation_target_matrix).sum() \n",
    "num_correct = len(validation_target_matrix) - num_mistakes\n",
    "accuracy = num_correct/float(len(validation_target_matrix))\n",
    "print 'Accuracy on validation data = %.2f' % accuracy"
   ]
  },
  {
   "cell_type": "markdown",
   "metadata": {},
   "source": [
    "### Model 2 with total number of trees = 6 is 63% accurate on validation dataset."
   ]
  },
  {
   "cell_type": "code",
   "execution_count": 28,
   "metadata": {
    "collapsed": false
   },
   "outputs": [],
   "source": [
    "# ROC curve\n",
    "\n",
    "from sklearn.metrics import roc_curve, auc\n",
    "import matplotlib.pyplot as plt\n",
    "import random\n",
    "\n",
    "predicted1 = clf.predict(validation_feature_matrix)\n",
    "false_positive_rate1, true_positive_rate1, thresholds1 = roc_curve(validation_target_matrix, predicted1)\n",
    "roc_auc1 = auc(false_positive_rate1, true_positive_rate1)\n",
    "\n",
    "predicted2 = clf2.predict(validation_feature_matrix)\n",
    "false_positive_rate2, true_positive_rate2, thresholds2 = roc_curve(validation_target_matrix, predicted2)\n",
    "roc_auc2 = auc(false_positive_rate2, true_positive_rate2)\n",
    "\n",
    "predicted3 = clf3.predict(validation_feature_matrix)\n",
    "false_positive_rate3, true_positive_rate3, thresholds3 = roc_curve(validation_target_matrix, predicted3)\n",
    "roc_auc3 = auc(false_positive_rate3, true_positive_rate3)"
   ]
  },
  {
   "cell_type": "code",
   "execution_count": 29,
   "metadata": {
    "collapsed": false
   },
   "outputs": [
    {
     "data": {
      "text/plain": [
       "<matplotlib.text.Text at 0x12d664390>"
      ]
     },
     "execution_count": 29,
     "metadata": {},
     "output_type": "execute_result"
    },
    {
     "data": {
      "image/png": "[encoded data removed]",
      "text/plain": [
       "<matplotlib.figure.Figure at 0x12d63bb50>"
      ]
     },
     "metadata": {},
     "output_type": "display_data"
    }
   ],
   "source": [
    "plt.title('Receiver Operating Characteristic')\n",
    "plt.plot(false_positive_rate1, true_positive_rate1, 'b',label='AUC-model1 = %0.2f'% roc_auc1)\n",
    "plt.plot(false_positive_rate2, true_positive_rate2, 'k',label='AUC-model2 = %0.2f'% roc_auc2)\n",
    "plt.plot(false_positive_rate3, true_positive_rate3, 'g',label='AUC-model3 = %0.2f'% roc_auc3)\n",
    "plt.plot([0,1],[0,1],'r--')\n",
    "plt.legend(loc='lower right')\n",
    "plt.ylabel('True Positive Rate')\n",
    "plt.xlabel('False Positive Rate')"
   ]
  },
  {
   "cell_type": "markdown",
   "metadata": {},
   "source": [
    "# 2. Ensamble Boosting"
   ]
  },
  {
   "cell_type": "code",
   "execution_count": 11,
   "metadata": {
    "collapsed": false
   },
   "outputs": [],
   "source": [
    "target = 'safe_loans'\n",
    "features = ['grade',                     # grade of the loan (categorical)\n",
    "            'sub_grade_num',             # sub-grade of the loan as a number from 0 to 1\n",
    "            'short_emp',                 # one year or less of employment\n",
    "            'emp_length_num',            # number of years of employment\n",
    "            'home_ownership',            # home_ownership status: own, mortgage or rent\n",
    "            'dti',                       # debt to income ratio\n",
    "            'purpose',                   # the purpose of the loan\n",
    "            'payment_inc_ratio',         # ratio of the monthly payment to income\n",
    "            'delinq_2yrs',               # number of delinquincies \n",
    "            'delinq_2yrs_zero',          # no delinquincies in last 2 years\n",
    "            'inq_last_6mths',            # number of creditor inquiries in last 6 months\n",
    "            'last_delinq_none',          # has borrower had a delinquincy\n",
    "            'last_major_derog_none',     # has borrower had 90 day or worse rating\n",
    "            'open_acc',                  # number of open credit accounts\n",
    "            'pub_rec',                   # number of derogatory public records\n",
    "            'pub_rec_zero',              # no derogatory public records\n",
    "            'revol_util',                # percent of available credit being used\n",
    "            'total_rec_late_fee',        # total late fees received to day\n",
    "            'int_rate',                  # interest rate of the loan\n",
    "            'total_rec_int',             # interest received to date\n",
    "            'annual_inc',                # annual income of borrower\n",
    "            'funded_amnt',               # amount committed to the loan\n",
    "            'funded_amnt_inv',           # amount committed by investors for the loan\n",
    "            'installment',               # monthly payment owed by the borrower\n",
    "           ]"
   ]
  },
  {
   "cell_type": "code",
   "execution_count": 12,
   "metadata": {
    "collapsed": false
   },
   "outputs": [
    {
     "data": {
      "text/plain": [
       "(122607, 69)"
      ]
     },
     "execution_count": 12,
     "metadata": {},
     "output_type": "execute_result"
    }
   ],
   "source": [
    "loans.shape"
   ]
  },
  {
   "cell_type": "code",
   "execution_count": 13,
   "metadata": {
    "collapsed": false
   },
   "outputs": [],
   "source": [
    "loans_data2 = loans[[target] + features].dropna() "
   ]
  },
  {
   "cell_type": "code",
   "execution_count": 14,
   "metadata": {
    "collapsed": false
   },
   "outputs": [],
   "source": [
    "safe_loans_raw = loans_data2[loans_data2[target] == 1]\n",
    "risky_loans_raw = loans_data2[loans_data2[target] == -1]\n",
    "\n",
    "percentage = len(risky_loans_raw)/float(len(safe_loans_raw))\n",
    "safe_loans = safe_loans_raw.sample(frac = percentage)\n",
    "\n",
    "# Append the risky_loans with the downsampled version of safe_loans\n",
    "loans_data2 = risky_loans_raw.append(safe_loans)"
   ]
  },
  {
   "cell_type": "code",
   "execution_count": 15,
   "metadata": {
    "collapsed": false
   },
   "outputs": [],
   "source": [
    "safe_loans_raw = loans_data2[loans_data2[target] == 1]\n",
    "risky_loans_raw = loans_data2[loans_data2[target] == -1]"
   ]
  },
  {
   "cell_type": "code",
   "execution_count": 16,
   "metadata": {
    "collapsed": false
   },
   "outputs": [
    {
     "data": {
      "text/plain": [
       "23147"
      ]
     },
     "execution_count": 16,
     "metadata": {},
     "output_type": "execute_result"
    }
   ],
   "source": [
    "len(risky_loans_raw)"
   ]
  },
  {
   "cell_type": "code",
   "execution_count": 17,
   "metadata": {
    "collapsed": false
   },
   "outputs": [
    {
     "data": {
      "text/plain": [
       "23147"
      ]
     },
     "execution_count": 17,
     "metadata": {},
     "output_type": "execute_result"
    }
   ],
   "source": [
    "len(safe_loans_raw)"
   ]
  },
  {
   "cell_type": "code",
   "execution_count": 18,
   "metadata": {
    "collapsed": false
   },
   "outputs": [],
   "source": [
    "from sklearn.cross_validation import train_test_split\n",
    "train_data2, validation_data2 = train_test_split(loans_data2, test_size = 0.2)"
   ]
  },
  {
   "cell_type": "code",
   "execution_count": 19,
   "metadata": {
    "collapsed": true
   },
   "outputs": [],
   "source": [
    "def get_numpy_data(data_frame, features, label):\n",
    "    features_array = np.array(data_frame[features])\n",
    "    label_array = np.array(data_frame[label])\n",
    "    return(features_array, label_array)\n",
    "\n",
    "\n",
    "train_feature_matrix, train_target_matrix = get_numpy_data(train_data2, features, target) \n",
    "validation_feature_matrix, validation_target_matrix = get_numpy_data(validation_data2, features, target) "
   ]
  },
  {
   "cell_type": "code",
   "execution_count": 20,
   "metadata": {
    "collapsed": false
   },
   "outputs": [
    {
     "data": {
      "text/plain": [
       "array([['B', 1.0, 0, 4, 'RENT', 5.89, 'debt_consolidation', 3.09387, 1.0,\n",
       "        0.0, 0.0, 0, 1, 10.0, 0.0, 1.0, 41.1, 0.0, 11.86, 624.25, 45000.0,\n",
       "        3500, 3500, 116.02]], dtype=object)"
      ]
     },
     "execution_count": 20,
     "metadata": {},
     "output_type": "execute_result"
    }
   ],
   "source": [
    "train_feature_matrix[1:2]"
   ]
  },
  {
   "cell_type": "code",
   "execution_count": 21,
   "metadata": {
    "collapsed": true
   },
   "outputs": [],
   "source": [
    "from sklearn import preprocessing\n",
    "#le = preprocessing.LabelEncoder()\n",
    "\n",
    "l0e = preprocessing.LabelEncoder()\n",
    "l0 = l0e.fit(train_feature_matrix[:,0])\n",
    "train_feature_matrix[:,0]= l0.transform(train_feature_matrix[:,0])\n",
    "validation_feature_matrix[:,0]= l0.transform(validation_feature_matrix[:,0])\n",
    "\n",
    "l1e = preprocessing.LabelEncoder()\n",
    "l1 = l1e.fit(train_feature_matrix[:,4])\n",
    "train_feature_matrix[:,4]= l1.transform(train_feature_matrix[:,4])\n",
    "validation_feature_matrix[:,4]= l1.transform(validation_feature_matrix[:,4])\n",
    "\n",
    "l4e = preprocessing.LabelEncoder()\n",
    "l4 = l4e.fit(train_feature_matrix[:,6])\n",
    "train_feature_matrix[:,6]= l4.transform(train_feature_matrix[:,6])\n",
    "validation_feature_matrix[:,6]= l4.transform(validation_feature_matrix[:,6])"
   ]
  },
  {
   "cell_type": "code",
   "execution_count": 22,
   "metadata": {
    "collapsed": false
   },
   "outputs": [
    {
     "data": {
      "text/plain": [
       "array([[1, 1.0, 0, 4, 3, 5.89, 2, 3.09387, 1.0, 0.0, 0.0, 0, 1, 10.0, 0.0,\n",
       "        1.0, 41.1, 0.0, 11.86, 624.25, 45000.0, 3500, 3500, 116.02]], dtype=object)"
      ]
     },
     "execution_count": 22,
     "metadata": {},
     "output_type": "execute_result"
    }
   ],
   "source": [
    "train_feature_matrix[1:2]"
   ]
  },
  {
   "cell_type": "code",
   "execution_count": 65,
   "metadata": {
    "collapsed": true
   },
   "outputs": [],
   "source": [
    "from sklearn import tree\n",
    "from sklearn.ensemble import GradientBoostingClassifier, GradientBoostingRegressor\n",
    "\n",
    "dt = GradientBoostingClassifier(n_estimators=200, max_depth=3)\n",
    "clf4 = dt.fit(train_feature_matrix, train_target_matrix)"
   ]
  },
  {
   "cell_type": "code",
   "execution_count": 66,
   "metadata": {
    "collapsed": false
   },
   "outputs": [
    {
     "name": "stdout",
     "output_type": "stream",
     "text": [
      "Accuracy on validation data = 0.68\n"
     ]
    }
   ],
   "source": [
    "predicted = clf4.predict(validation_feature_matrix)\n",
    "\n",
    "num_mistakes = (predicted != validation_target_matrix).sum() \n",
    "num_correct = len(validation_target_matrix) - num_mistakes\n",
    "accuracy = num_correct/float(len(validation_target_matrix)) \n",
    "print 'Accuracy on validation data = %.2f' % accuracy"
   ]
  },
  {
   "cell_type": "code",
   "execution_count": 31,
   "metadata": {
    "collapsed": false
   },
   "outputs": [],
   "source": [
    "def calculate_accuracy(predicted, true_label):\n",
    "    num_mistakes = (predicted != true_label).sum()\n",
    "    num_correct = len(true_label) - num_mistakes\n",
    "    accuracy = num_correct/float(len(true_label)) \n",
    "    return(accuracy)"
   ]
  },
  {
   "cell_type": "code",
   "execution_count": 94,
   "metadata": {
    "collapsed": false,
    "scrolled": true
   },
   "outputs": [],
   "source": [
    "ntree = [10,50,100,200,300,400,500]\n",
    "training_err = []\n",
    "validation_err = []\n",
    "\n",
    "for i in ntree:\n",
    "    dt = GradientBoostingClassifier(n_estimators=i, max_depth=6)\n",
    "    clf = dt.fit(train_feature_matrix, train_target_matrix)\n",
    "    \n",
    "    train_predict = clf.predict(train_feature_matrix)\n",
    "    t_err = 1 - calculate_accuracy(train_predict,train_target_matrix)\n",
    "    training_err.append(t_err)\n",
    "    \n",
    "    validation_predict = clf.predict(validation_feature_matrix)\n",
    "    v_err = 1 - calculate_accuracy(validation_predict, validation_target_matrix) \n",
    "    validation_err.append(v_err)"
   ]
  },
  {
   "cell_type": "code",
   "execution_count": 95,
   "metadata": {
    "collapsed": false
   },
   "outputs": [],
   "source": [
    "import matplotlib.pyplot as plt\n",
    "%matplotlib inline\n",
    "def make_figure(dim, title, xlabel, ylabel, legend):\n",
    "    plt.rcParams['figure.figsize'] = dim\n",
    "    plt.title(title)\n",
    "    plt.xlabel(xlabel)\n",
    "    plt.ylabel(ylabel)\n",
    "    if legend is not None:\n",
    "        plt.legend(loc=legend, prop={'size':15})\n",
    "    plt.rcParams.update({'font.size': 16})\n",
    "    plt.tight_layout()"
   ]
  },
  {
   "cell_type": "code",
   "execution_count": 96,
   "metadata": {
    "collapsed": false
   },
   "outputs": [
    {
     "data": {
      "image/png": "[encoded data removed]",
      "text/plain": [
       "<matplotlib.figure.Figure at 0x11d60c6d0>"
      ]
     },
     "metadata": {},
     "output_type": "display_data"
    }
   ],
   "source": [
    "plt.plot([10,50,100,200,300,400,500], training_err, linewidth=4.0, label='Training error')\n",
    "plt.plot([10,50,100,200,300,400,500], validation_err, linewidth=4.0, label='Validation error')\n",
    "\n",
    "make_figure(dim=(10,5), title='Error vs number of trees',\n",
    "            xlabel='Number of trees',\n",
    "            ylabel='Classification error',\n",
    "            legend='best')"
   ]
  },
  {
   "cell_type": "markdown",
   "metadata": {},
   "source": [
    "### Boosting method improved accuracy to ~70% and is quire robust to overfitting."
   ]
  },
  {
   "cell_type": "markdown",
   "metadata": {},
   "source": [
    "# 3. Random Forest"
   ]
  },
  {
   "cell_type": "code",
   "execution_count": 38,
   "metadata": {
    "collapsed": false
   },
   "outputs": [],
   "source": [
    "import sklearn\n",
    "from sklearn.ensemble import RandomForestClassifier\n",
    "\n",
    "rf = RandomForestClassifier(n_estimators=100,n_jobs=4)\n",
    "clf5 = rf.fit(train_feature_matrix, train_target_matrix)"
   ]
  },
  {
   "cell_type": "code",
   "execution_count": 39,
   "metadata": {
    "collapsed": false
   },
   "outputs": [
    {
     "data": {
      "text/plain": [
       "0.66994275839723516"
      ]
     },
     "execution_count": 39,
     "metadata": {},
     "output_type": "execute_result"
    }
   ],
   "source": [
    "predicted_rf = clf5.predict(validation_feature_matrix)\n",
    "calculate_accuracy(predicted_rf,validation_target_matrix)"
   ]
  },
  {
   "cell_type": "code",
   "execution_count": 40,
   "metadata": {
    "collapsed": true
   },
   "outputs": [],
   "source": [
    "importances = clf5.feature_importances_"
   ]
  },
  {
   "cell_type": "code",
   "execution_count": 44,
   "metadata": {
    "collapsed": false
   },
   "outputs": [],
   "source": [
    "importances\n",
    "std = np.std([tree.feature_importances_ for tree in clf5.estimators_],axis=0)\n",
    "indices = np.argsort(importances)[::-1]"
   ]
  },
  {
   "cell_type": "code",
   "execution_count": 62,
   "metadata": {
    "collapsed": false
   },
   "outputs": [
    {
     "name": "stdout",
     "output_type": "stream",
     "text": [
      "Feature ranking:\n",
      "('int_rate', 0.10237845214730769)\n",
      "('total_rec_int', 0.092788063285005884)\n",
      "('payment_inc_ratio', 0.085150487211880219)\n",
      "('revol_util', 0.080556131109546042)\n",
      "('dti', 0.08023687478131393)\n",
      "('annual_inc', 0.074363141007719347)\n",
      "('installment', 0.069160486883128161)\n",
      "('funded_amnt_inv', 0.059038955166323522)\n",
      "('funded_amnt', 0.053451779215015885)\n",
      "('open_acc', 0.052120990318402331)\n",
      "('emp_length_num', 0.040895406943354543)\n",
      "('grade', 0.038059646308819257)\n",
      "('purpose', 0.029324770988632357)\n",
      "('sub_grade_num', 0.027328911265380871)\n",
      "('inq_last_6mths', 0.027283136478785011)\n",
      "('total_rec_late_fee', 0.021153705452712633)\n",
      "('home_ownership', 0.015959900910030078)\n",
      "('last_delinq_none', 0.010602487379362121)\n",
      "('delinq_2yrs', 0.0098182211428544438)\n",
      "('last_major_derog_none', 0.007211131678543271)\n",
      "('pub_rec', 0.0060726963773024504)\n",
      "('delinq_2yrs_zero', 0.0060378138907533734)\n",
      "('short_emp', 0.0056425233497432795)\n",
      "('pub_rec_zero', 0.0053642867080834246)\n"
     ]
    },
    {
     "data": {
      "image/png": "[encoded data removed]",
      "text/plain": [
       "<matplotlib.figure.Figure at 0x129b9abd0>"
      ]
     },
     "metadata": {},
     "output_type": "display_data"
    }
   ],
   "source": [
    "# Print the feature ranking\n",
    "print(\"Feature ranking:\")\n",
    "\n",
    "for f in range(train_feature_matrix.shape[1]):\n",
    "    print(features[indices[f]],importances[indices[f]])\n",
    "    \n",
    "\n",
    "# Plot the feature importances of the forest\n",
    "plt.figure()\n",
    "plt.title(\"Feature importances\")\n",
    "plt.bar(range(train_feature_matrix.shape[1]), importances[indices],\n",
    "       color=\"r\", yerr=std[indices], align=\"center\")\n",
    "plt.xticks(range(train_feature_matrix.shape[1]), indices)\n",
    "plt.xlim([-1, train_feature_matrix.shape[1]])\n",
    "plt.show()"
   ]
  },
  {
   "cell_type": "markdown",
   "metadata": {},
   "source": [
    "## Interest rate, interest received to date, ratio of the monthly payment to income are some of the most important features to predict default loans."
   ]
  }
 ],
 "metadata": {
  "anaconda-cloud": {},
  "kernelspec": {
   "display_name": "Python [default]",
   "language": "python",
   "name": "python2"
  },
  "language_info": {
   "codemirror_mode": {
    "name": "ipython",
    "version": 2
   },
   "file_extension": ".py",
   "mimetype": "text/x-python",
   "name": "python",
   "nbconvert_exporter": "python",
   "pygments_lexer": "ipython2",
   "version": "2.7.12"
  }
 },
 "nbformat": 4,
 "nbformat_minor": 1
}
